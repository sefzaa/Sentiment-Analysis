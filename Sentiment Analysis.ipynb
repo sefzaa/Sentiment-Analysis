{
 "cells": [
  {
   "cell_type": "code",
   "execution_count": 72,
   "id": "af41dadd",
   "metadata": {},
   "outputs": [],
   "source": [
    "import numpy as np\n",
    "from numpy import array\n",
    "import pandas as pd\n",
    "import matplotlib.pyplot as plt\n",
    "from sklearn.model_selection import train_test_split\n",
    "from sklearn.preprocessing import LabelEncoder\n",
    "from sklearn.feature_extraction.text import TfidfVectorizer\n",
    "from sklearn import svm\n",
    "from sklearn.metrics import accuracy_score"
   ]
  },
  {
   "cell_type": "code",
   "execution_count": 73,
   "id": "abc8ce29",
   "metadata": {},
   "outputs": [
    {
     "name": "stdout",
     "output_type": "stream",
     "text": [
      "(139,) (139,)\n"
     ]
    }
   ],
   "source": [
    "np.random.seed(500)\n",
    "data = pd.read_csv('datasentiment3.csv')\n",
    "data.dropna(inplace=True)#removing all empty spaces\n",
    "\n",
    "Train_X, Test_X, Train_Y, Test_Y = train_test_split(data['Tweets'],data['Label'],test_size=0.3)\n",
    "print(Train_X.shape,Train_Y.shape)#this helps to view the number of rows in the data set"
   ]
  },
  {
   "cell_type": "code",
   "execution_count": 74,
   "id": "ddb072d8",
   "metadata": {},
   "outputs": [
    {
     "name": "stdout",
     "output_type": "stream",
     "text": [
      "  (0, 729)\t0.13326449651890707\n",
      "  (0, 595)\t0.25183471395351364\n",
      "  (0, 523)\t0.5036694279070273\n",
      "  (0, 507)\t0.2206923014750553\n",
      "  (0, 475)\t0.1955493214758238\n",
      "  (0, 445)\t0.25183471395351364\n",
      "  (0, 378)\t0.25183471395351364\n",
      "  (0, 325)\t0.23361757047162493\n",
      "  (0, 274)\t0.23361757047162493\n",
      "  (0, 171)\t0.25183471395351364\n",
      "  (0, 165)\t0.25183471395351364\n",
      "  (0, 143)\t0.15840747651813858\n",
      "  (0, 69)\t0.25183471395351364\n",
      "  (0, 67)\t0.25183471395351364\n",
      "  (0, 19)\t0.25183471395351364\n",
      "  (1, 729)\t0.20393398412220992\n",
      "  (1, 728)\t0.38538138737897604\n",
      "  (1, 554)\t0.3377243112798803\n",
      "  (1, 408)\t0.5363441351381121\n",
      "  (1, 338)\t0.3098467088678947\n",
      "  (1, 249)\t0.38538138737897604\n",
      "  (1, 47)\t0.2900672351807845\n",
      "  (1, 21)\t0.2819691064559092\n",
      "  (2, 652)\t0.3698296141028954\n",
      "  (2, 466)\t0.3493681940327896\n",
      "  :\t:\n",
      "  (135, 294)\t0.3038378532428823\n",
      "  (135, 197)\t0.31256405051313313\n",
      "  (135, 168)\t0.3473852313705975\n",
      "  (135, 121)\t0.385230793244935\n",
      "  (136, 577)\t0.44453391123376534\n",
      "  (136, 545)\t0.5529027436638433\n",
      "  (136, 367)\t0.3761607904938297\n",
      "  (136, 300)\t0.22246297120252823\n",
      "  (136, 117)\t0.5529027436638433\n",
      "  (137, 539)\t0.352822808470308\n",
      "  (137, 537)\t0.4316118598948006\n",
      "  (137, 517)\t0.4316118598948006\n",
      "  (137, 493)\t0.3610552248835737\n",
      "  (137, 387)\t0.4316118598948006\n",
      "  (137, 33)\t0.4316118598948006\n",
      "  (138, 729)\t0.23836746426147468\n",
      "  (138, 625)\t0.3295785211830664\n",
      "  (138, 613)\t0.34977504973825363\n",
      "  (138, 539)\t0.18411170323139556\n",
      "  (138, 408)\t0.3134519045824447\n",
      "  (138, 280)\t0.394747780982869\n",
      "  (138, 133)\t0.2541758088201844\n",
      "  (138, 48)\t0.34977504973825363\n",
      "  (138, 47)\t0.3390439882444795\n",
      "  (138, 39)\t0.34977504973825363\n"
     ]
    },
    {
     "name": "stderr",
     "output_type": "stream",
     "text": [
      "C:\\Users\\KiKi\\anaconda3\\lib\\site-packages\\sklearn\\utils\\validation.py:70: FutureWarning: Pass input=[['abad'], ['acara'], ['aceh'], ['ada'], ['adalah'], ['adanya'], ['adapun'], ['agak'], ['agaknya'], ['agama'], ['agar'], ['agustus'], ['air'], ['akan'], ['akankah'], ['akhir'], ['akhiri'], ['akhirnya'], ['akibat'], ['aku'], ['akulah'], ['alam'], ['album'], ['amat'], ['amatlah'], ['amerika'], ['anak'], ['and'], ['anda'], ['andalah'], ['anggota'], ['antar'], ['antara'], ['antarabangsa'], ['antaranya'], ['apa'], ['apaan'], ['apabila'], ['apakah'], ['apalagi'], ['apatah'], ['api'], ['april'], ['artikel'], ['artinya'], ['as'], ['asal'], ['asalkan'], ['asas'], ['asia'], ['asing'], ['atas'], ['atau'], ['ataukah'], ['ataupun'], ['australia'], ['awal'], ['awalnya'], ['awam'], ['b'], ['badan'], ['bagai'], ['bagaikan'], ['bagaimana'], ['bagaimanakah'], ['bagaimanapun'], ['bagainamakah'], ['bagi'], ['bagian'], ['bahagian'], ['bahan'], ['baharu'], ['bahasa'], ['bahawa'], ['bahkan'], ['bahwa'], ['bahwasannya'], ['bahwasanya'], ['baik'], ['baiknya'], ['bakal'], ['bakalan'], ['balik'], ['bandar'], ['bangsa'], ['bank'], ['banyak'], ['bapak'], ['barang'], ['barangan'], ['barat'], ['baru'], ['baru-baru'], ['bawah'], ['beberapa'], ['begini'], ['beginian'], ['beginikah'], ['beginilah'], ['begitu'], ['begitukah'], ['begitulah'], ['begitupun'], ['bekas'], ['bekerja'], ['belakang'], ['belakangan'], ['belanda'], ['beli'], ['beliau'], ['belum'], ['belumlah'], ['benar'], ['benarkah'], ['benarlah'], ['bentuk'], ['berada'], ['berakhir'], ['berakhirlah'], ['berakhirnya'], ['berapa'], ['berapakah'], ['berapalah'], ['berapapun'], ['berarti'], ['berasal'], ['berat'], ['berawal'], ['berbagai'], ['berbanding'], ['berbeda'], ['berdasarkan'], ['berdatangan'], ['berharap'], ['berhasil'], ['beri'], ['berikan'], ['berikut'], ['berikutan'], ['berikutnya'], ['berita'], ['berjalan'], ['berjaya'], ['berjumlah'], ['berkaitan'], ['berkali'], ['berkali-kali'], ['berkata'], ['berkehendak'], ['berkeinginan'], ['berkenaan'], ['berlainan'], ['berlaku'], ['berlalu'], ['berlangsung'], ['berlebihan'], ['bermacam'], ['bermacam-macam'], ['bermain'], ['bermaksud'], ['bermula'], ['bernama'], ['bernilai'], ['bersama'], ['bersama-sama'], ['bersiap'], ['bertanya'], ['bertemu'], ['berturut'], ['bertutur'], ['berubah'], ['berujar'], ['berupa'], ['besar'], ['besok'], ['betul'], ['betulkah'], ['bhd'], ['biasa'], ['biasanya'], ['bidang'], ['bila'], ['bilakah'], ['bilion'], ['bintang'], ['bisa'], ['bisakah'], ['blog'], ['bn'], ['bola'], ['boleh'], ['bolehkah'], ['bolehlah'], ['buat'], ['bukan'], ['bukankah'], ['bukanlah'], ['bukannya'], ['buku'], ['bulan'], ['bumi'], ['bung'], ['bursa'], ['cadangan'], ['cara'], ['caranya'], ['catch'], ['china'], ['click'], ['code'], ['copyright'], ['cukup'], ['cukupkah'], ['cukuplah'], ['cuma'], ['daerah'], ['dagangan'], ['dahulu'], ['dalam'], ['dan'], ['dana'], ['dapat'], ['dari'], ['daripada'], ['dasar'], ['data'], ['datang'], ['datuk'], ['dekat'], ['demi'], ['demikian'], ['demikianlah'], ['dengan'], ['depan'], ['derivatives'], ['desa'], ['desember'], ['detik'], ['dewan'], ['di'], ['dia'], ['diadakan'], ['diakhiri'], ['diakhirinya'], ['dialah'], ['dianggap'], ['diantara'], ['diantaranya'], ['diberi'], ['diberikan'], ['diberikannya'], ['dibuat'], ['dibuatnya'], ['dibuka'], ['dicatatkan'], ['didapat'], ['didatangkan'], ['didirikan'], ['diduga'], ['digunakan'], ['diibaratkan'], ['diibaratkannya'], ['diingat'], ['diingatkan'], ['diinginkan'], ['dijangka'], ['dijawab'], ['dijelaskan'], ['dijelaskannya'], ['dikarenakan'], ['dikatakan'], ['dikatakannya'], ['dikenal'], ['dikerjakan'], ['diketahui'], ['diketahuinya'], ['dikira'], ['dilakukan'], ['dilalui'], ['dilihat'], ['dimaksud'], ['dimaksudkan'], ['dimaksudkannya'], ['dimaksudnya'], ['dimana'], ['diminta'], ['dimintai'], ['dimisalkan'], ['dimulai'], ['dimulailah'], ['dimulainya'], ['dimungkinkan'], ['dini'], ['diniagakan'], ['dipastikan'], ['diperbuat'], ['diperbuatnya'], ['dipergunakan'], ['diperkirakan'], ['diperlihatkan'], ['diperlukan'], ['diperlukannya'], ['dipersoalkan'], ['dipertanyakan'], ['dipunyai'], ['diri'], ['dirilis'], ['dirinya'], ['dis'], ['disampaikan'], ['disebut'], ['disebutkan'], ['disebutkannya'], ['disember'], ['disini'], ['disinilah'], ['distrik'], ['ditambahkan'], ['ditandaskan'], ['ditanya'], ['ditanyai'], ['ditanyakan'], ['ditegaskan'], ['ditemukan'], ['ditujukan'], ['ditunjuk'], ['ditunjuki'], ['ditunjukkan'], ['ditunjukkannya'], ['ditunjuknya'], ['ditutup'], ['dituturkan'], ['dituturkannya'], ['diucapkan'], ['diucapkannya'], ['diungkapkan'], ['document.write'], ['dolar'], ['dong'], ['dr'], ['dua'], ['dulu'], ['dunia'], ['effective'], ['ekonomi'], ['eksekutif'], ['eksport'], ['empat'], ['enam'], ['enggak'], ['enggaknya'], ['entah'], ['entahlah'], ['era'], ['eropa'], ['err'], ['faedah'], ['feb'], ['film'], ['gat'], ['gedung'], ['gelar'], ['gettracker'], ['global'], ['grup'], ['guna'], ['gunakan'], ['gunung'], ['hadap'], ['hadapan'], ['hal'], ['hampir'], ['hanya'], ['hanyalah'], ['harga'], ['hari'], ['harian'], ['harus'], ['haruslah'], ['harusnya'], ['hasil'], ['hendak'], ['hendaklah'], ['hendaknya'], ['hidup'], ['hingga'], ['https'], ['hubungan'], ['hukum'], ['hutan'], ['i'], ['ia'], ['iaitu'], ['ialah'], ['ibarat'], ['ibaratkan'], ['ibaratnya'], ['ibu'], ['ii'], ['iklan'], ['ikut'], ['ilmu'], ['indeks'], ['india'], ['indonesia'], ['industri'], ['informasi'], ['ingat'], ['inggris'], ['ingin'], ['inginkah'], ['inginkan'], ['ini'], ['inikah'], ['inilah'], ['internasional'], ['islam'], ['isnin'], ['isu'], ['italia'], ['itu'], ['itukah'], ['itulah'], ['jabatan'], ['jadi'], ['jadilah'], ['jadinya'], ['jakarta'], ['jalan'], ['jalur'], ['jaman'], ['jan'], ['jangan'], ['jangankan'], ['janganlah'], ['januari'], ['jauh'], ['jawa'], ['jawab'], ['jawaban'], ['jawabnya'], ['jawatan'], ['jawatankuasa'], ['jelas'], ['jelaskan'], ['jelaslah'], ['jelasnya'], ['jenis'], ['jepang'], ['jepun'], ['jerman'], ['jika'], ['jikalau'], ['jiwa'], ['jual'], ['jualan'], ['juga'], ['julai'], ['jumaat'], ['jumat'], ['jumlah'], ['jumlahnya'], ['jun'], ['juni'], ['justru'], ['juta'], ['kabar'], ['kabupaten'], ['kadar'], ['kala'], ['kalangan'], ['kalau'], ['kalaulah'], ['kalaupun'], ['kali'], ['kalian'], ['kalimantan'], ['kami'], ['kamilah'], ['kamis'], ['kamu'], ['kamulah'], ['kan'], ['kantor'], ['kapal'], ['kapan'], ['kapankah'], ['kapanpun'], ['karena'], ['karenanya'], ['karya'], ['kasus'], ['kata'], ['katakan'], ['katakanlah'], ['katanya'], ['kaunter'], ['kawasan'], ['ke'], ['keadaan'], ['kebetulan'], ['kebutuhan'], ['kecamatan'], ['kecil'], ['kedua'], ['kedua-dua'], ['keduanya'], ['kedudukan'], ['kegiatan'], ['kehidupan'], ['keinginan'], ['kejadian'], ['kekal'], ['kelamaan'], ['kelihatan'], ['kelihatannya'], ['kelima'], ['kelompok'], ['keluar'], ['keluarga'], ['kelurahan'], ['kembali'], ['kementerian'], ['kemudahan'], ['kemudian'], ['kemungkinan'], ['kemungkinannya'], ['kenaikan'], ['kenapa'], ['kenyataan'], ['kepada'], ['kepadanya'], ['kepala'], ['kepentingan'], ['keputusan'], ['kerajaan'], ['kerana'], ['kereta'], ['kerja'], ['kerjasama'], ['kes'], ['kesampaian'], ['keselamatan'], ['keseluruhan'], ['keseluruhannya'], ['kesempatan'], ['kesihatan'], ['keterangan'], ['keterlaluan'], ['ketiga'], ['ketika'], ['ketua'], ['keuntungan'], ['kewangan'], ['khamis'], ['khusus'], ['khususnya'], ['kini'], ['kinilah'], ['kira'], ['kira-kira'], ['kiranya'], ['kita'], ['kitalah'], ['klci'], ['klibor'], ['klik'], ['km'], ['kok'], ['komentar'], ['kompas'], ['komposit'], ['kondisi'], ['kontrak'], ['korban'], ['korea'], ['kos'], ['kota'], ['kuala'], ['kuasa'], ['kukuh'], ['kumpulan'], ['kurang'], ['kurangnya'], ['lagi'], ['lagian'], ['lagu'], ['lah'], ['lain'], ['lainnya'], ['laku'], ['lalu'], ['lama'], ['lamanya'], ['langkah'], ['langsung'], ['lanjut'], ['lanjutnya'], ['laporan'], ['laut'], ['lebih'], ['lembaga'], ['lepas'], ['lewat'], ['lima'], ['lingkungan'], ['login'], ['lokasi'], ['lot'], ['luar'], ['luas'], ['lumpur'], ['mac'], ['macam'], ['mahkamah'], ['mahu'], ['majlis'], ['maka'], ['makanan'], ['makanya'], ['makin'], ['maklumat'], ['malah'], ['malahan'], ['malam'], ['malaysia'], ['mampu'], ['mampukah'], ['mana'], ['manakala'], ['manalagi'], ['mantan'], ['manusia'], ['masa'], ['masalah'], ['masalahnya'], ['masih'], ['masihkah'], ['masing'], ['masing-masing'], ['masuk'], ['masyarakat'], ['mata'], ['mau'], ['maupun'], ['measure'], ['media'], ['mei'], ['melainkan'], ['melakukan'], ['melalui'], ['melawan'], ['melihat'], ['melihatnya'], ['memandangkan'], ['memang'], ['memastikan'], ['membantu'], ['membawa'], ['memberi'], ['memberikan'], ['membolehkan'], ['membuat'], ['memerlukan'], ['memihak'], ['memiliki'], ['meminta'], ['memintakan'], ['memisalkan'], ['memperbuat'], ['mempergunakan'], ['memperkirakan'], ['memperlihatkan'], ['mempersiapkan'], ['mempersoalkan'], ['mempertanyakan'], ['mempunyai'], ['memulai'], ['memungkinkan'], ['menaiki'], ['menambah'], ['menambahkan'], ['menandaskan'], ['menanti'], ['menantikan'], ['menanya'], ['menanyai'], ['menanyakan'], ['menarik'], ['menawarkan'], ['mencapai'], ['mencari'], ['mencatatkan'], ['mendapat'], ['mendapatkan'], ['mendatang'], ['mendatangi'], ['mendatangkan'], ['menegaskan'], ['menerima'], ['menerusi'], ['mengadakan'], ['mengakhiri'], ['mengaku'], ['mengalami'], ['mengambil'], ['mengapa'], ['mengatakan'], ['mengatakannya'], ['mengenai'], ['mengerjakan'], ['mengetahui'], ['menggalakkan'], ['menggunakan'], ['menghadapi'], ['menghendaki'], ['mengibaratkan'], ['mengibaratkannya'], ['mengikut'], ['mengingat'], ['mengingatkan'], ['menginginkan'], ['mengira'], ['mengucapkan'], ['mengucapkannya'], ['mengumumkan'], ['mengungkapkan'], ['mengurangkan'], ['meninggal'], ['meningkat'], ['meningkatkan'], ['menjadi'], ['menjalani'], ['menjawab'], ['menjelang'], ['menjelaskan'], ['menokok'], ['menteri'], ['menuju'], ['menunjuk'], ['menunjuki'], ['menunjukkan'], ['menunjuknya'], ['menurut'], ['menuturkan'], ['menyaksikan'], ['menyampaikan'], ['menyangkut'], ['menyatakan'], ['menyebabkan'], ['menyebutkan'], ['menyediakan'], ['menyeluruh'], ['menyiapkan'], ['merasa'], ['mereka'], ['merekalah'], ['merosot'], ['merupakan'], ['meski'], ['meskipun'], ['mesyuarat'], ['metrotv'], ['meyakini'], ['meyakinkan'], ['milik'], ['militer'], ['minat'], ['minggu'], ['minta'], ['minyak'], ['mirip'], ['misal'], ['misalkan'], ['misalnya'], ['mobil'], ['modal'], ['mohd'], ['mudah'], ['mula'], ['mulai'], ['mulailah'], ['mulanya'], ['muncul'], ['mungkin'], ['mungkinkah'], ['musik'], ['musim'], ['nah'], ['naik'], ['nama'], ['namun'], ['nanti'], ['nantinya'], ['nasional'], ['negara'], ['negara-negara'], ['negeri'], ['new'], ['niaga'], ['nilai'], ['nomor'], ['noun'], ['nov'], ['november'], ['numeral'], ['numeralia'], ['nya'], ['nyaris'], ['nyatanya'], ['of'], ['ogos'], ['okt'], ['oktober'], ['olah'], ['oleh'], ['olehnya'], ['operasi'], ['orang'], ['organisasi'], ['pada'], ['padahal'], ['padanya'], ['pagetracker'], ['pagi'], ['pak'], ['paling'], ['pameran'], ['panjang'], ['pantas'], ['papan'], ['para'], ['paras'], ['parlimen'], ['partai'], ['parti'], ['particle'], ['pasar'], ['pasaran'], ['password'], ['pasti'], ['pastilah'], ['pasukan'], ['paticle'], ['pegawai'], ['pejabat'], ['pekan'], ['pekerja'], ['pelabur'], ['pelaburan'], ['pelancongan'], ['pelanggan'], ['pelbagai'], ['peluang'], ['pemain'], ['pembangunan'], ['pemberita'], ['pembinaan'], ['pemerintah'], ['pemerintahan'], ['pemimpin'], ['pendapatan'], ['pendidikan'], ['penduduk'], ['penerbangan'], ['pengarah'], ['pengeluaran'], ['pengerusi'], ['pengguna'], ['penggunaan'], ['pengurusan'], ['peniaga'], ['peningkatan'], ['penting'], ['pentingnya'], ['per'], ['perancis'], ['perang'], ['peratus'], ['percuma'], ['perdagangan'], ['perdana'], ['peringkat'], ['perjanjian'], ['perkara'], ['perkhidmatan'], ['perladangan'], ['perlu'], ['perlukah'], ['perlunya'], ['permintaan'], ['pernah'], ['perniagaan'], ['persekutuan'], ['persen'], ['persidangan'], ['persoalan'], ['pertama'], ['pertandingan'], ['pertanyaan'], ['pertanyakan'], ['pertubuhan'], ['pertumbuhan'], ['perubahan'], ['perusahaan'], ['pesawat'], ['peserta'], ['petang'], ['pihak'], ['pihaknya'], ['pilihan'], ['pinjaman'], ['polis'], ['polisi'], ['politik'], ['pos'], ['posisi'], ['presiden'], ['prestasi'], ['produk'], ['program'], ['projek'], ['pronomia'], ['pronoun'], ['proses'], ['proton'], ['provinsi'], ['pt'], ['pubdate'], ['pukul'], ['pula'], ['pulau'], ['pun'], ['punya'], ['pusat'], ['rabu'], ['radio'], ['raja'], ['rakan'], ['rakyat'], ['ramai'], ['rantau'], ['rasa'], ['rasanya'], ['rata'], ['raya'], ['rendah'], ['republik'], ['resmi'], ['ribu'], ['ringgit'], ['root'], ['ruang'], ['rumah'], ['rupa'], ['rupanya'], ['saat'], ['saatnya'], ['sabah'], ['sabtu'], ['sahaja'], ['saham'], ['saja'], ['sajalah'], ['sakit'], ['salah'], ['saling'], ['sama'], ['sama-sama'], ['sambil'], ['sampai'], ['sampaikan'], ['sana'], ['sangat'], ['sangatlah'], ['sarawak'], ['satu'], ['sawit'], ['saya'], ['sayalah'], ['sdn'], ['se'], ['sebab'], ['sebabnya'], ['sebagai'], ['sebagaimana'], ['sebagainya'], ['sebagian'], ['sebahagian'], ['sebaik'], ['sebaiknya'], ['sebaliknya'], ['sebanyak'], ['sebarang'], ['sebegini'], ['sebegitu'], ['sebelah'], ['sebelum'], ['sebelumnya'], ['sebenarnya'], ['seberapa'], ['sebesar'], ['sebetulnya'], ['sebisanya'], ['sebuah'], ['sebut'], ['sebutlah'], ['sebutnya'], ['secara'], ['secukupnya'], ['sedang'], ['sedangkan'], ['sedemikian'], ['sedikit'], ['sedikitnya'], ['seenaknya'], ['segala'], ['segalanya'], ['segera'], ['segi'], ['seharusnya'], ['sehingga'], ['seingat'], ['sejak'], ['sejarah'], ['sejauh'], ['sejenak'], ['sejumlah'], ['sekadar'], ['sekadarnya'], ['sekali'], ['sekali-kali'], ['sekalian'], ['sekaligus'], ['sekalipun'], ['sekarang'], ['sekaranglah'], ['sekecil'], ['seketika'], ['sekiranya'], ['sekitar'], ['sekitarnya'], ['sekolah'], ['sektor'], ['sekurang'], ['sekurangnya'], ['sekuriti'], ['sela'], ['selagi'], ['selain'], ['selaku'], ['selalu'], ['selama'], ['selama-lamanya'], ['selamanya'], ['selanjutnya'], ['selasa'], ['selatan'], ['selepas'], ['seluruh'], ['seluruhnya'], ['semacam'], ['semakin'], ['semalam'], ['semampu'], ['semampunya'], ['semasa'], ['semasih'], ['semata'], ['semaunya'], ['sementara'], ['semisal'], ['semisalnya'], ['sempat'], ['semua'], ['semuanya'], ['semula'], ['sen'], ['sendiri'], ['sendirian'], ['sendirinya'], ['senin'], ['seolah'], ['seolah-olah'], ['seorang'], ['sepak'], ['sepanjang'], ['sepantasnya'], ['sepantasnyalah'], ['seperlunya'], ['seperti'], ['sepertinya'], ['sepihak'], ['sept'], ['september'], ['serangan'], ['serantau'], ['seri'], ['serikat'], ['sering'], ['seringnya'], ['serta'], ['serupa'], ['sesaat'], ['sesama'], ['sesampai'], ['sesegera'], ['sesekali'], ['seseorang'], ['sesi'], ['sesuai'], ['sesuatu'], ['sesuatunya'], ['sesudah'], ['sesudahnya'], ['setelah'], ['setempat'], ['setengah'], ['seterusnya'], ['setiap'], ['setiausaha'], ['setiba'], ['setibanya'], ['setidak'], ['setidaknya'], ['setinggi'], ['seusai'], ['sewaktu'], ['siap'], ['siapa'], ['siapakah'], ['siapapun'], ['siaran'], ['sidang'], ['singapura'], ['sini'], ['sinilah'], ['sistem'], ['soal'], ['soalnya'], ['sokongan'], ['sri'], ['stasiun'], ['suara'], ['suatu'], ['sudah'], ['sudahkah'], ['sudahlah'], ['sukan'], ['suku'], ['sumber'], ['sungai'], ['supaya'], ['surat'], ['susut'], ['syarikat'], ['syed'], ['tadi'], ['tadinya'], ['tahap'], ['tahu'], ['tahun'], ['tak'], ['tama'], ['tambah'], ['tambahnya'], ['tampak'], ['tampaknya'], ['tampil'], ['tan'], ['tanah'], ['tandas'], ['tandasnya'], ['tanggal'], ['tanpa'], ['tanya'], ['tanyakan'], ['tanyanya'], ['tapi'], ['tawaran'], ['tegas'], ['tegasnya'], ['teknologi'], ['telah'], ['televisi'], ['teman'], ['tempat'], ['tempatan'], ['tempo'], ['tempoh'], ['tenaga'], ['tengah'], ['tentang'], ['tentara'], ['tentu'], ['tentulah'], ['tentunya'], ['tepat'], ['terakhir'], ['terasa'], ['terbaik'], ['terbang'], ['terbanyak'], ['terbesar'], ['terbuka'], ['terdahulu'], ['terdapat'], ['terdiri'], ['terhadap'], ['terhadapnya'], ['teringat'], ['terjadi'], ['terjadilah'], ['terjadinya'], ['terkait'], ['terkenal'], ['terkira'], ['terlalu'], ['terlebih'], ['terletak'], ['terlihat'], ['termasuk'], ['ternyata'], ['tersampaikan'], ['tersebut'], ['tersebutlah'], ['tertentu'], ['tertuju'], ['terus'], ['terutama'], ['testimoni'], ['testimony'], ['tetap'], ['tetapi'], ['the'], ['tiada'], ['tiap'], ['tiba'], ['tidak'], ['tidakkah'], ['tidaklah'], ['tidaknya'], ['tiga'], ['tim'], ['timbalan'], ['timur'], ['tindakan'], ['tinggal'], ['tinggi'], ['tingkat'], ['toh'], ['tokoh'], ['try'], ['tun'], ['tunai'], ['tunjuk'], ['turun'], ['turut'], ['tutur'], ['tuturnya'], ['tv'], ['uang'], ['ucap'], ['ucapnya'], ['udara'], ['ujar'], ['ujarnya'], ['umum'], ['umumnya'], ['unescape'], ['ungkap'], ['ungkapnya'], ['unit'], ['universitas'], ['untuk'], ['untung'], ['upaya'], ['urus'], ['usah'], ['usaha'], ['usai'], ['user'], ['utama'], ['utara'], ['var'], ['versi'], ['waduh'], ['wah'], ['wahai'], ['wakil'], ['waktu'], ['waktunya'], ['walau'], ['walaupun'], ['wang'], ['wanita'], ['warga'], ['warta'], ['wib'], ['wilayah'], ['wong'], ['word'], ['ya'], ['yaitu'], ['yakin'], ['yakni'], ['yang'], ['zaman'], ['aa'], ['ee'], ['bb'], ['ae'], ['ab'], ['av']] as keyword args. From version 1.0 (renaming of 0.25) passing these as positional arguments will result in an error\n",
      "  warnings.warn(f\"Pass {args_msg} as keyword args. From version \"\n"
     ]
    }
   ],
   "source": [
    "Encoder = LabelEncoder()#this is used so that all the entries of Y is properly divided as 1 and 0\n",
    "Train_Y = Encoder.fit_transform(Train_Y)\n",
    "Test_Y = Encoder.fit_transform(Test_Y)\n",
    "d = pd.read_csv(\"Stopwork.csv\")\n",
    "my_stopword=d.values.tolist() \n",
    "vectorizer = TfidfVectorizer(my_stopword)\n",
    "vectorizer.fit_transform(data['Tweets'])\n",
    "Train_X_Tfidf = vectorizer.transform(Train_X)\n",
    "Test_X_Tfidf = vectorizer.transform(Test_X)\n",
    "print(Train_X_Tfidf)"
   ]
  },
  {
   "cell_type": "code",
   "execution_count": 80,
   "id": "155a91c0",
   "metadata": {},
   "outputs": [
    {
     "name": "stdout",
     "output_type": "stream",
     "text": [
      "SVM Accuracy Score ->  75.0\n",
      "Enter sentences: \n",
      "polisi baik\n",
      "polisi jahat\n",
      " — — Negatif\n",
      " — — Positif\n"
     ]
    }
   ],
   "source": [
    "SVM = svm.SVC(C=1.0, kernel='linear', degree=3, gamma='auto')\n",
    "SVM.fit(Train_X_Tfidf,Train_Y)\n",
    "\n",
    "# predict the labels on validation dataset\n",
    "predictions_SVM = SVM.predict(Test_X_Tfidf)\n",
    "\n",
    "# Use accuracy_score function to get the accuracy\n",
    "print(\"SVM Accuracy Score -> \",accuracy_score(predictions_SVM, Test_Y)*100)\n",
    "\n",
    "#if you want to enter an input sentence and check the classificcation as positive or negative\n",
    "lst = [ ]\n",
    "print(\"Enter sentences: \")\n",
    "\n",
    "for i in range(0, 2):\n",
    "    ele = input()\n",
    "    lst.append(ele)\n",
    "\n",
    "#print(lst)\n",
    "tes=vectorizer.transform(lst)\n",
    "#print(tes)\n",
    "predictions= SVM.predict(tes)\n",
    "#print(predictions)\n",
    "for i in predictions:\n",
    "    if predictions[i] == 1 :\n",
    "        print(\" — — Positif\")\n",
    "    else:\n",
    "        print(\" — — Negatif\")"
   ]
  },
  {
   "cell_type": "code",
   "execution_count": null,
   "id": "1945fe12",
   "metadata": {},
   "outputs": [],
   "source": []
  },
  {
   "cell_type": "code",
   "execution_count": null,
   "id": "48f5758f",
   "metadata": {},
   "outputs": [],
   "source": []
  }
 ],
 "metadata": {
  "kernelspec": {
   "display_name": "Python 3 (ipykernel)",
   "language": "python",
   "name": "python3"
  },
  "language_info": {
   "codemirror_mode": {
    "name": "ipython",
    "version": 3
   },
   "file_extension": ".py",
   "mimetype": "text/x-python",
   "name": "python",
   "nbconvert_exporter": "python",
   "pygments_lexer": "ipython3",
   "version": "3.9.7"
  }
 },
 "nbformat": 4,
 "nbformat_minor": 5
}
